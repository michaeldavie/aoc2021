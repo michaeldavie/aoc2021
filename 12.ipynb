{
 "cells": [
  {
   "cell_type": "code",
   "execution_count": 50,
   "metadata": {},
   "outputs": [],
   "source": [
    "from collections import Counter, defaultdict"
   ]
  },
  {
   "cell_type": "code",
   "execution_count": 51,
   "metadata": {},
   "outputs": [],
   "source": [
    "with open(\"12.test\") as input_file:\n",
    "    input_lines = input_file.read().splitlines()\n",
    "\n",
    "links = defaultdict(set)\n",
    "\n",
    "for l in input_lines:\n",
    "    endpoints = l.split(\"-\")\n",
    "\n",
    "    if \"start\" in endpoints:\n",
    "        endpoints.remove(\"start\")\n",
    "        links[\"start\"].add(endpoints[0])\n",
    "    else:\n",
    "        links[endpoints[0]].add(endpoints[1])\n",
    "        links[endpoints[1]].add(endpoints[0])"
   ]
  },
  {
   "cell_type": "code",
   "execution_count": 52,
   "metadata": {},
   "outputs": [],
   "source": [
    "def is_small(label):\n",
    "    if len(label) == 2 and label[0] == label[0].lower():\n",
    "        return True\n",
    "    return False\n",
    "\n",
    "smalls = {n for n in links if is_small(n)}"
   ]
  },
  {
   "cell_type": "code",
   "execution_count": 53,
   "metadata": {},
   "outputs": [
    {
     "data": {
      "text/plain": [
       "226"
      ]
     },
     "execution_count": 53,
     "metadata": {},
     "output_type": "execute_result"
    }
   ],
   "source": [
    "paths_count = 0\n",
    "\n",
    "def find_paths(a: str, b: str, visited: set, path: list):\n",
    "    visited.add(a)\n",
    "    path.append(a)\n",
    "\n",
    "    if a == b:\n",
    "        global paths_count\n",
    "        paths_count += 1\n",
    "    else:\n",
    "        for n in links[a]:\n",
    "            if n not in visited or not is_small(n):\n",
    "                find_paths(n, b, visited, path)\n",
    "\n",
    "    path.pop()\n",
    "    visited.discard(a)\n",
    "\n",
    "visited = set()\n",
    "path = []\n",
    "\n",
    "find_paths(\"start\", \"end\", visited, path)\n",
    "paths_count"
   ]
  },
  {
   "cell_type": "code",
   "execution_count": 59,
   "metadata": {},
   "outputs": [
    {
     "data": {
      "text/plain": [
       "3509"
      ]
     },
     "execution_count": 59,
     "metadata": {},
     "output_type": "execute_result"
    }
   ],
   "source": [
    "paths = []\n",
    "\n",
    "def find_paths_b(a: str, b: str, visited: set, path: list):\n",
    "    global paths\n",
    "    visited.add(a)\n",
    "    path.append(a)\n",
    "\n",
    "    if a == b:\n",
    "        node_counts = Counter(path)\n",
    "        small_counts = list({n: c for n, c in node_counts.items() if n in smalls}.values())\n",
    "        if small_counts.count(2) <= 1:\n",
    "            paths.append(path)\n",
    "    else:\n",
    "        for n in links[a]:\n",
    "            if n not in visited or n not in smalls or path.count(n) <= 1:\n",
    "                find_paths_b(n, b, visited, path)\n",
    "\n",
    "    path.pop()\n",
    "    visited.discard(a)\n",
    "\n",
    "visited = set()\n",
    "path = []\n",
    "\n",
    "find_paths_b(\"start\", \"end\", visited, path)\n",
    "\n",
    "len(paths)"
   ]
  }
 ],
 "metadata": {
  "interpreter": {
   "hash": "bfd9d73df9498748b19967dabbe6143bc8b615156d539e91e25fae38868d48ed"
  },
  "kernelspec": {
   "display_name": "Python 3.8.3 64-bit ('base': conda)",
   "language": "python",
   "name": "python3"
  },
  "language_info": {
   "codemirror_mode": {
    "name": "ipython",
    "version": 3
   },
   "file_extension": ".py",
   "mimetype": "text/x-python",
   "name": "python",
   "nbconvert_exporter": "python",
   "pygments_lexer": "ipython3",
   "version": "3.8.3"
  },
  "orig_nbformat": 4
 },
 "nbformat": 4,
 "nbformat_minor": 2
}
