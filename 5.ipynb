{
 "cells": [
  {
   "cell_type": "code",
   "execution_count": 30,
   "metadata": {},
   "outputs": [],
   "source": [
    "from collections import defaultdict"
   ]
  },
  {
   "cell_type": "code",
   "execution_count": 31,
   "metadata": {},
   "outputs": [],
   "source": [
    "with open(\"5.input\") as input_file:\n",
    "    input_lines = input_file.read().splitlines()\n",
    "\n",
    "lines = [[int(n) for n in l.replace(\" -> \", \",\").split(\",\")] for l in input_lines]"
   ]
  },
  {
   "cell_type": "code",
   "execution_count": 32,
   "metadata": {},
   "outputs": [
    {
     "data": {
      "text/plain": [
       "7644"
      ]
     },
     "execution_count": 32,
     "metadata": {},
     "output_type": "execute_result"
    }
   ],
   "source": [
    "counts = defaultdict(int)\n",
    "\n",
    "for x1,y1,x2,y2 in lines:\n",
    "\n",
    "    if x1 == x2:\n",
    "        for y in range(min(y1, y2), max(y1, y2)+1):\n",
    "            counts[(x1, y)] += 1\n",
    "\n",
    "    if y1 == y2:\n",
    "        for x in range(min(x1, x2), max(x1, x2)+1):\n",
    "            counts[(x, y1)] += 1\n",
    "\n",
    "len([c for c in counts.values() if c > 1])"
   ]
  },
  {
   "cell_type": "code",
   "execution_count": 33,
   "metadata": {},
   "outputs": [
    {
     "data": {
      "text/plain": [
       "18627"
      ]
     },
     "execution_count": 33,
     "metadata": {},
     "output_type": "execute_result"
    }
   ],
   "source": [
    "for x1,y1,x2,y2 in lines:\n",
    "    if x1 != x2 and y1 != y2:\n",
    "        if x1 <= x2:\n",
    "            x_values = range(x1, x2+1)\n",
    "        else:\n",
    "            x_values = range(x1, x2-1, -1)\n",
    "        \n",
    "        if y1 <= y2:\n",
    "            y_values = range(y1, y2+1)\n",
    "        else:\n",
    "            y_values = range(y1, y2-1, -1)\n",
    "\n",
    "        for i in range(len(x_values)):\n",
    "            counts[(x_values[i], y_values[i])] += 1\n",
    "\n",
    "len([c for c in counts.values() if c > 1])"
   ]
  }
 ],
 "metadata": {
  "interpreter": {
   "hash": "bfd9d73df9498748b19967dabbe6143bc8b615156d539e91e25fae38868d48ed"
  },
  "kernelspec": {
   "display_name": "Python 3.8.3 64-bit ('base': conda)",
   "language": "python",
   "name": "python3"
  },
  "language_info": {
   "codemirror_mode": {
    "name": "ipython",
    "version": 3
   },
   "file_extension": ".py",
   "mimetype": "text/x-python",
   "name": "python",
   "nbconvert_exporter": "python",
   "pygments_lexer": "ipython3",
   "version": "3.8.3"
  },
  "orig_nbformat": 4
 },
 "nbformat": 4,
 "nbformat_minor": 2
}
