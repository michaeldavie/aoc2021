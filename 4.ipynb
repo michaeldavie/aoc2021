{
 "cells": [
  {
   "cell_type": "code",
   "execution_count": 210,
   "metadata": {},
   "outputs": [],
   "source": [
    "import re"
   ]
  },
  {
   "cell_type": "code",
   "execution_count": 211,
   "metadata": {},
   "outputs": [],
   "source": [
    "with open(\"4.input\") as input_file:\n",
    "    input_lines = input_file.read().splitlines()\n",
    "\n",
    "caller = input_lines[0].split(\",\")\n",
    "\n",
    "cards = []\n",
    "\n",
    "for l in range(2, len(input_lines), 6):\n",
    "    card_rows = input_lines[l:l+5]\n",
    "    card_lines = []\n",
    "\n",
    "    for r in card_rows:\n",
    "        row_numbers = re.split(\" +\", r.strip())\n",
    "        card_lines.append(row_numbers)\n",
    "\n",
    "    card_columns = []\n",
    "\n",
    "    for col in range(0, 5):\n",
    "        card_columns.append([row[col] for row in card_lines])\n",
    "\n",
    "    card_lines += card_columns\n",
    "\n",
    "    cards.append(card_lines)"
   ]
  },
  {
   "cell_type": "code",
   "execution_count": 212,
   "metadata": {},
   "outputs": [
    {
     "name": "stdout",
     "output_type": "stream",
     "text": [
      "38913\n"
     ]
    }
   ],
   "source": [
    "try:\n",
    "    for call in caller:\n",
    "        for c in cards:\n",
    "            for l in c:\n",
    "                if call in l:\n",
    "                    l.remove(call)\n",
    "                if len(l) == 0:\n",
    "                    raise ValueError\n",
    "except ValueError:\n",
    "    remaining = set()\n",
    "\n",
    "    for l in c:\n",
    "        remaining.update(l)\n",
    "    remaining.discard(call)\n",
    "    \n",
    "    total = sum([int(n) for n in remaining])\n",
    "    print(total * int(call))"
   ]
  },
  {
   "cell_type": "code",
   "execution_count": 213,
   "metadata": {},
   "outputs": [
    {
     "name": "stdout",
     "output_type": "stream",
     "text": [
      "16836\n"
     ]
    }
   ],
   "source": [
    "winners = set()\n",
    "\n",
    "try:\n",
    "    for call in caller:\n",
    "        for c in cards:\n",
    "            for l in c:\n",
    "                if call in l:\n",
    "                    l.remove(call)\n",
    "                if len(l) == 0:\n",
    "                    winners.add(cards.index(c))\n",
    "                    if len(cards) == len(winners):\n",
    "                        raise ValueError\n",
    "except ValueError:\n",
    "    remaining = set()\n",
    "\n",
    "    for l in c:\n",
    "        remaining.update(l)\n",
    "    remaining.discard(call)\n",
    "    \n",
    "    total = sum([int(n) for n in remaining])\n",
    "    print(total * int(call))"
   ]
  }
 ],
 "metadata": {
  "interpreter": {
   "hash": "bfd9d73df9498748b19967dabbe6143bc8b615156d539e91e25fae38868d48ed"
  },
  "kernelspec": {
   "display_name": "Python 3.8.3 64-bit ('base': conda)",
   "language": "python",
   "name": "python3"
  },
  "language_info": {
   "codemirror_mode": {
    "name": "ipython",
    "version": 3
   },
   "file_extension": ".py",
   "mimetype": "text/x-python",
   "name": "python",
   "nbconvert_exporter": "python",
   "pygments_lexer": "ipython3",
   "version": "3.8.3"
  },
  "orig_nbformat": 4
 },
 "nbformat": 4,
 "nbformat_minor": 2
}
