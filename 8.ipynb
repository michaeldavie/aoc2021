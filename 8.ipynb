{
 "cells": [
  {
   "cell_type": "code",
   "execution_count": 1,
   "metadata": {},
   "outputs": [],
   "source": [
    "from collections import Counter, defaultdict"
   ]
  },
  {
   "cell_type": "code",
   "execution_count": 2,
   "metadata": {},
   "outputs": [],
   "source": [
    "with open(\"8.input\") as input_file:\n",
    "    input_lines = input_file.read().splitlines()\n",
    "\n",
    "lines = [l.replace(\" | \", \" \").split(\" \") for l in input_lines]"
   ]
  },
  {
   "cell_type": "code",
   "execution_count": 3,
   "metadata": {},
   "outputs": [
    {
     "data": {
      "text/plain": [
       "349"
      ]
     },
     "execution_count": 3,
     "metadata": {},
     "output_type": "execute_result"
    }
   ],
   "source": [
    "count = 0\n",
    "\n",
    "for l in lines:\n",
    "    for d in l[10:]:\n",
    "        if len(d) in [2, 3, 4, 7]:\n",
    "            count += 1\n",
    "\n",
    "count"
   ]
  },
  {
   "cell_type": "code",
   "execution_count": 4,
   "metadata": {},
   "outputs": [
    {
     "data": {
      "text/plain": [
       "349"
      ]
     },
     "execution_count": 4,
     "metadata": {},
     "output_type": "execute_result"
    }
   ],
   "source": [
    "sum([sum([1 if len(d) in [2, 3, 4, 7] else 0 for d in l[10:]]) for l in lines])"
   ]
  },
  {
   "cell_type": "code",
   "execution_count": 5,
   "metadata": {},
   "outputs": [
    {
     "data": {
      "text/plain": [
       "1070957"
      ]
     },
     "execution_count": 5,
     "metadata": {},
     "output_type": "execute_result"
    }
   ],
   "source": [
    "total = 0\n",
    "\n",
    "for line in lines:\n",
    "    segments = dict()\n",
    "    digits = defaultdict(set)\n",
    "\n",
    "    lengths = [len(d) for d in line[:10]]      \n",
    "\n",
    "    for i, l in enumerate(lengths):\n",
    "        if l == 2:\n",
    "            digits[1] = set(line[i])\n",
    "        elif l == 3:\n",
    "            digits[7] = set(line[i])\n",
    "        elif l == 4:\n",
    "            digits[4] = set(line[i])\n",
    "        elif l == 7:\n",
    "            digits[8] = set(line[i])\n",
    "\n",
    "    segments[\"a\"] = (digits[7] - digits[1]).pop()\n",
    "\n",
    "    frequency = Counter(\"\".join(line[:10]))\n",
    "\n",
    "    for char, freq in frequency.items():\n",
    "        if freq == 4:\n",
    "            segments[\"e\"] = char\n",
    "        elif freq == 6:\n",
    "            segments[\"b\"] = char\n",
    "        elif freq == 9:\n",
    "            segments[\"f\"] = char\n",
    "        elif freq == 8 and char not in segments.values():\n",
    "            segments[\"c\"] = char\n",
    "\n",
    "    segments[\"g\"] = (digits[8] - digits[4] - set(segments.values())).pop()\n",
    "    segments[\"d\"] = (set(\"abcdefg\") - set(segments.values())).pop()\n",
    "\n",
    "    digits[0] = {v for k,v in segments.items() if k in \"abcefg\"}\n",
    "    digits[2] = {v for k,v in segments.items() if k in \"acdeg\"}\n",
    "    digits[3] = {v for k,v in segments.items() if k in \"acdfg\"}\n",
    "    digits[5] = {v for k,v in segments.items() if k in \"abdfg\"}\n",
    "    digits[6] = {v for k,v in segments.items() if k in \"abdefg\"}\n",
    "    digits[9] = {v for k,v in segments.items() if k in \"abcdfg\"}\n",
    "\n",
    "    output = \"\"\n",
    "\n",
    "    for d in line[10:]:\n",
    "        output += str(list(digits.keys())[list(digits.values()).index(set(d))])\n",
    "\n",
    "    total += int(output)\n",
    "\n",
    "total"
   ]
  }
 ],
 "metadata": {
  "interpreter": {
   "hash": "bfd9d73df9498748b19967dabbe6143bc8b615156d539e91e25fae38868d48ed"
  },
  "kernelspec": {
   "display_name": "Python 3.8.3 64-bit ('base': conda)",
   "language": "python",
   "name": "python3"
  },
  "language_info": {
   "codemirror_mode": {
    "name": "ipython",
    "version": 3
   },
   "file_extension": ".py",
   "mimetype": "text/x-python",
   "name": "python",
   "nbconvert_exporter": "python",
   "pygments_lexer": "ipython3",
   "version": "3.8.3"
  },
  "orig_nbformat": 4
 },
 "nbformat": 4,
 "nbformat_minor": 2
}
