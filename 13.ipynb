{
 "cells": [
  {
   "cell_type": "code",
   "execution_count": 24,
   "metadata": {},
   "outputs": [],
   "source": [
    "with open(\"13.input\") as input_file:\n",
    "    input = input_file.read()\n",
    "\n",
    "sections = input.split(\"\\n\\n\")\n",
    "\n",
    "dot_lines = sections[0].splitlines()\n",
    "dots = set()\n",
    "for d in dot_lines:\n",
    "    coords = d.split(\",\")\n",
    "    dots.add((int(coords[0]), int(coords[1])))\n",
    "\n",
    "fold_lines = sections[1].splitlines()\n",
    "folds = []\n",
    "for f in fold_lines:\n",
    "    how = f.split(\"=\")\n",
    "    folds.append((how[0][-1], int(how[1])))"
   ]
  },
  {
   "cell_type": "code",
   "execution_count": 25,
   "metadata": {},
   "outputs": [
    {
     "name": "stdout",
     "output_type": "stream",
     "text": [
      "712\n",
      "595\n",
      "484\n",
      "404\n",
      "339\n",
      "278\n",
      "234\n",
      "190\n",
      "159\n",
      "138\n",
      "112\n",
      "90\n"
     ]
    }
   ],
   "source": [
    "for axis, line in folds:\n",
    "    if axis == \"y\":\n",
    "        for x, y in [d for d in dots if d[1] > line]:\n",
    "            dots.add((x, y - 2*(y-line)))\n",
    "        dots = {d for d in dots if d[1] < line}\n",
    "\n",
    "    elif axis == \"x\":\n",
    "        for x, y in [d for d in dots if d[0] > line]:\n",
    "            dots.add((x - 2*(x-line), y))\n",
    "        dots = {d for d in dots if d[0] < line}\n",
    "\n",
    "    print(len(dots))"
   ]
  },
  {
   "cell_type": "code",
   "execution_count": 33,
   "metadata": {},
   "outputs": [
    {
     "name": "stdout",
     "output_type": "stream",
     "text": [
      "###  #    #  # ####   ## ###    ## ####\n",
      "#  # #    #  # #       # #  #    # #   \n",
      "###  #    #### ###     # #  #    # ### \n",
      "#  # #    #  # #       # ###     # #   \n",
      "#  # #    #  # #    #  # #    #  # #   \n",
      "###  #### #  # #     ##  #     ##  #   \n"
     ]
    }
   ],
   "source": [
    "for y in range(max([d[1] for d in dots])+1):\n",
    "    output_line = \"\"\n",
    "    for x in range(max([d[0] for d in dots])+1):\n",
    "        if (x, y) in dots:\n",
    "            output_line += \"#\"\n",
    "        else:\n",
    "            output_line += \" \"\n",
    "    print(output_line)"
   ]
  }
 ],
 "metadata": {
  "interpreter": {
   "hash": "bfd9d73df9498748b19967dabbe6143bc8b615156d539e91e25fae38868d48ed"
  },
  "kernelspec": {
   "display_name": "Python 3.8.3 64-bit ('base': conda)",
   "language": "python",
   "name": "python3"
  },
  "language_info": {
   "codemirror_mode": {
    "name": "ipython",
    "version": 3
   },
   "file_extension": ".py",
   "mimetype": "text/x-python",
   "name": "python",
   "nbconvert_exporter": "python",
   "pygments_lexer": "ipython3",
   "version": "3.8.3"
  },
  "orig_nbformat": 4
 },
 "nbformat": 4,
 "nbformat_minor": 2
}
