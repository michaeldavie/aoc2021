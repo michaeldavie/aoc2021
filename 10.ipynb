{
 "cells": [
  {
   "cell_type": "code",
   "execution_count": 1,
   "metadata": {},
   "outputs": [],
   "source": [
    "with open(\"10.input\") as input_file:\n",
    "    input_lines = input_file.read().splitlines()"
   ]
  },
  {
   "cell_type": "code",
   "execution_count": 2,
   "metadata": {},
   "outputs": [
    {
     "data": {
      "text/plain": [
       "278475"
      ]
     },
     "execution_count": 2,
     "metadata": {},
     "output_type": "execute_result"
    }
   ],
   "source": [
    "open = \"[<({\"\n",
    "close = \"]>)}\"\n",
    "scores = {\n",
    "    \")\": 3,\n",
    "    \"]\": 57,\n",
    "    \"}\": 1197,\n",
    "    \">\": 25137\n",
    "}\n",
    "\n",
    "score = 0\n",
    "\n",
    "for l in input_lines:\n",
    "    tracker = []\n",
    "\n",
    "    try:\n",
    "        for c in l:\n",
    "            if c in open:\n",
    "                tracker.append(c)\n",
    "            elif c in close:\n",
    "                if close.index(c) == open.index(tracker[-1]):\n",
    "                    tracker = tracker[:-1]\n",
    "                else:\n",
    "                    raise ValueError\n",
    "    except ValueError:\n",
    "        score += scores[c]\n",
    "        continue\n",
    "\n",
    "score"
   ]
  },
  {
   "cell_type": "code",
   "execution_count": 3,
   "metadata": {},
   "outputs": [
    {
     "data": {
      "text/plain": [
       "3015539998"
      ]
     },
     "execution_count": 3,
     "metadata": {},
     "output_type": "execute_result"
    }
   ],
   "source": [
    "points= {\n",
    "    \"(\": 1,\n",
    "    \"[\": 2,\n",
    "    \"{\": 3,\n",
    "    \"<\": 4\n",
    "}\n",
    "\n",
    "scores = []\n",
    "\n",
    "for i in input_lines:\n",
    "    tracker = []\n",
    "\n",
    "    try:\n",
    "        for c in i:\n",
    "            if c in open:\n",
    "                tracker.append(c)\n",
    "            elif c in close and close.index(c) == open.index(tracker[-1]):\n",
    "                tracker = tracker[:-1]\n",
    "            else:\n",
    "                raise ValueError\n",
    "        \n",
    "        tracker.reverse()\n",
    "        score = 0\n",
    "\n",
    "        for c in tracker:\n",
    "            score = score * 5 + points[c]\n",
    "\n",
    "        scores.append(score)\n",
    "\n",
    "    except ValueError:\n",
    "        continue\n",
    "\n",
    "from statistics import median\n",
    "median(sorted(scores))"
   ]
  }
 ],
 "metadata": {
  "interpreter": {
   "hash": "bfd9d73df9498748b19967dabbe6143bc8b615156d539e91e25fae38868d48ed"
  },
  "kernelspec": {
   "display_name": "Python 3.8.3 64-bit ('base': conda)",
   "language": "python",
   "name": "python3"
  },
  "language_info": {
   "codemirror_mode": {
    "name": "ipython",
    "version": 3
   },
   "file_extension": ".py",
   "mimetype": "text/x-python",
   "name": "python",
   "nbconvert_exporter": "python",
   "pygments_lexer": "ipython3",
   "version": "3.8.3"
  },
  "orig_nbformat": 4
 },
 "nbformat": 4,
 "nbformat_minor": 2
}
