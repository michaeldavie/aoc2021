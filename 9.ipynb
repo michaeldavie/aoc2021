{
 "cells": [
  {
   "cell_type": "code",
   "execution_count": 6,
   "metadata": {},
   "outputs": [],
   "source": [
    "with open(\"9.input\") as input_file:\n",
    "    input_lines = input_file.read().splitlines()\n",
    "\n",
    "height = [[int(d) for d in l] for l in input_lines]"
   ]
  },
  {
   "cell_type": "code",
   "execution_count": 7,
   "metadata": {},
   "outputs": [],
   "source": [
    "def neighbours(r, c):\n",
    "    max_r = len(height) - 1\n",
    "    max_c = len(height[0]) - 1\n",
    "    \n",
    "    n = []\n",
    "\n",
    "    if c > 0:\n",
    "        n.append((r, c-1))\n",
    "    if c < max_c:\n",
    "        n.append((r, c+1))\n",
    "    if r > 0:\n",
    "        n.append((r-1, c))\n",
    "    if r < max_r:\n",
    "        n.append((r+1, c))\n",
    "\n",
    "    return n"
   ]
  },
  {
   "cell_type": "code",
   "execution_count": 8,
   "metadata": {},
   "outputs": [],
   "source": [
    "def low_point(r, c, local):\n",
    "    if all([height[x][y] > local for x, y in neighbours(r, c)]):\n",
    "        return True"
   ]
  },
  {
   "cell_type": "code",
   "execution_count": 9,
   "metadata": {},
   "outputs": [
    {
     "data": {
      "text/plain": [
       "522"
      ]
     },
     "execution_count": 9,
     "metadata": {},
     "output_type": "execute_result"
    }
   ],
   "source": [
    "low_points = []\n",
    "\n",
    "for row in range(len(height)):\n",
    "    for col in range(len(height[0])):\n",
    "        if low_point(row, col, height[row][col]):\n",
    "            low_points.append((row, col))\n",
    "\n",
    "sum([1 + height[l[0]][l[1]] for l in low_points])"
   ]
  },
  {
   "cell_type": "code",
   "execution_count": 10,
   "metadata": {},
   "outputs": [
    {
     "data": {
      "text/plain": [
       "916688"
      ]
     },
     "execution_count": 10,
     "metadata": {},
     "output_type": "execute_result"
    }
   ],
   "source": [
    "def measure_basin(r, c):\n",
    "    visited = set()\n",
    "\n",
    "    def search(r, c):\n",
    "        if height[r][c] == 9 or (r, c) in visited:\n",
    "            return 0\n",
    "        visited.add((r, c))\n",
    "        return 1 + sum(search(r1, c1) for r1, c1 in neighbours(r, c))\n",
    "\n",
    "    return search(r, c)\n",
    "\n",
    "basin_sizes = sorted([measure_basin(r, c) for r, c in low_points])\n",
    "basin_sizes[-1] * basin_sizes[-2] * basin_sizes[-3]\n"
   ]
  }
 ],
 "metadata": {
  "interpreter": {
   "hash": "bfd9d73df9498748b19967dabbe6143bc8b615156d539e91e25fae38868d48ed"
  },
  "kernelspec": {
   "display_name": "Python 3.8.3 64-bit ('base': conda)",
   "language": "python",
   "name": "python3"
  },
  "language_info": {
   "codemirror_mode": {
    "name": "ipython",
    "version": 3
   },
   "file_extension": ".py",
   "mimetype": "text/x-python",
   "name": "python",
   "nbconvert_exporter": "python",
   "pygments_lexer": "ipython3",
   "version": "3.8.3"
  },
  "orig_nbformat": 4
 },
 "nbformat": 4,
 "nbformat_minor": 2
}
