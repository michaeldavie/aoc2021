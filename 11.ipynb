{
 "cells": [
  {
   "cell_type": "code",
   "execution_count": 104,
   "metadata": {},
   "outputs": [],
   "source": [
    "with open(\"11.input\") as input_file:\n",
    "    input_lines = input_file.read().splitlines()\n",
    "\n",
    "energy = [[int(d) for d in l] for l in input_lines]\n",
    "max_r = len(energy) - 1\n",
    "max_c = len(energy[0]) - 1\n",
    "flashes = 0"
   ]
  },
  {
   "cell_type": "code",
   "execution_count": 105,
   "metadata": {},
   "outputs": [],
   "source": [
    "def neighbours(r, c):\n",
    "    \n",
    "    n = []\n",
    "\n",
    "    if c > 0:\n",
    "        n.append((r, c-1))\n",
    "    if c < max_c:\n",
    "        n.append((r, c+1))\n",
    "    if r > 0:\n",
    "        n.append((r-1, c))\n",
    "    if r < max_r:\n",
    "        n.append((r+1, c))\n",
    "    if c > 0 and r > 0:\n",
    "        n.append((r-1, c-1))\n",
    "    if c > 0 and r < max_r:\n",
    "        n.append((r+1, c-1))\n",
    "    if c < max_c and r > 0:\n",
    "        n.append((r-1, c+1))\n",
    "    if c < max_c and r < max_r:\n",
    "        n.append((r+1, c+1))\n",
    "\n",
    "    return n"
   ]
  },
  {
   "cell_type": "code",
   "execution_count": 106,
   "metadata": {},
   "outputs": [],
   "source": [
    "def step():\n",
    "    flashed = set()\n",
    "\n",
    "    def flash(r, c):\n",
    "        flashed.add((r, c))\n",
    "        for nr, nc in neighbours(r, c):\n",
    "            energy[nr][nc] += 1\n",
    "            if energy[nr][nc] > 9 and (nr, nc) not in flashed:\n",
    "                flash(nr, nc)\n",
    "\n",
    "    for row in range(len(energy)):\n",
    "        for col in range(len(energy[0])):\n",
    "            energy[row][col] += 1\n",
    "\n",
    "    for row in range(len(energy)):\n",
    "        for col in range(len(energy[0])):\n",
    "            if energy[row][col] > 9 and (row, col) not in flashed:\n",
    "                flash(row, col)\n",
    "\n",
    "    for r, c in flashed:\n",
    "        energy[r][c] = 0\n",
    "\n",
    "    global flashes\n",
    "    flashes += len(flashed)\n",
    "\n",
    "    return len(flashed)"
   ]
  },
  {
   "cell_type": "code",
   "execution_count": 107,
   "metadata": {},
   "outputs": [
    {
     "name": "stdout",
     "output_type": "stream",
     "text": [
      "1713\n",
      "502\n"
     ]
    }
   ],
   "source": [
    "s = 0\n",
    "\n",
    "while True:\n",
    "    if s == 100:\n",
    "        print(flashes)\n",
    "\n",
    "    if step() == 100:\n",
    "        print(s+1)\n",
    "        break\n",
    "\n",
    "    s += 1"
   ]
  }
 ],
 "metadata": {
  "interpreter": {
   "hash": "bfd9d73df9498748b19967dabbe6143bc8b615156d539e91e25fae38868d48ed"
  },
  "kernelspec": {
   "display_name": "Python 3.8.3 64-bit ('base': conda)",
   "language": "python",
   "name": "python3"
  },
  "language_info": {
   "codemirror_mode": {
    "name": "ipython",
    "version": 3
   },
   "file_extension": ".py",
   "mimetype": "text/x-python",
   "name": "python",
   "nbconvert_exporter": "python",
   "pygments_lexer": "ipython3",
   "version": "3.8.3"
  },
  "orig_nbformat": 4
 },
 "nbformat": 4,
 "nbformat_minor": 2
}
