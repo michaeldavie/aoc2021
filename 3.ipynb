{
 "cells": [
  {
   "cell_type": "code",
   "execution_count": 162,
   "metadata": {},
   "outputs": [],
   "source": [
    "from collections import Counter"
   ]
  },
  {
   "cell_type": "code",
   "execution_count": 163,
   "metadata": {},
   "outputs": [],
   "source": [
    "with open(\"3.input\") as input_file:\n",
    "    input = input_file.read().splitlines()"
   ]
  },
  {
   "cell_type": "code",
   "execution_count": 164,
   "metadata": {},
   "outputs": [],
   "source": [
    "def most_common(data_in):\n",
    "    return [Counter([line[col] for line in data_in]).most_common() for col in range(len(data_in[0]))]\n",
    "\n",
    "counts = most_common(input)"
   ]
  },
  {
   "cell_type": "code",
   "execution_count": 165,
   "metadata": {},
   "outputs": [
    {
     "data": {
      "text/plain": [
       "3969000"
      ]
     },
     "execution_count": 165,
     "metadata": {},
     "output_type": "execute_result"
    }
   ],
   "source": [
    "gamma = int(str().join([col[0][0] for col in counts]), 2)\n",
    "epsilon = int(str().join([col[1][0] for col in counts]), 2)\n",
    "\n",
    "gamma * epsilon"
   ]
  },
  {
   "cell_type": "code",
   "execution_count": 166,
   "metadata": {},
   "outputs": [],
   "source": [
    "def reduce(data_in, digit, most_least, tie_winner):\n",
    "    if most_least == \"most\":\n",
    "        count_pos = 0\n",
    "    else:\n",
    "        count_pos = 1\n",
    "\n",
    "    counts = most_common(data_in)\n",
    "\n",
    "    if len(counts[digit]) > 1 and counts[digit][0][1] == counts[digit][1][1]:\n",
    "        return [line for line in data_in if line[digit] == tie_winner]\n",
    "    return [line for line in data_in if line[digit] == counts[digit][count_pos][0]]"
   ]
  },
  {
   "cell_type": "code",
   "execution_count": 167,
   "metadata": {},
   "outputs": [
    {
     "data": {
      "text/plain": [
       "2509"
      ]
     },
     "execution_count": 167,
     "metadata": {},
     "output_type": "execute_result"
    }
   ],
   "source": [
    "digit = 0\n",
    "o2_input = input\n",
    "\n",
    "while len(o2_input) > 1:\n",
    "    o2_input = reduce(o2_input, digit=digit, most_least = \"most\", tie_winner=\"1\")\n",
    "    digit += 1\n",
    "\n",
    "oxygen = int(o2_input[0], 2)\n",
    "oxygen"
   ]
  },
  {
   "cell_type": "code",
   "execution_count": 168,
   "metadata": {},
   "outputs": [
    {
     "data": {
      "text/plain": [
       "1701"
      ]
     },
     "execution_count": 168,
     "metadata": {},
     "output_type": "execute_result"
    }
   ],
   "source": [
    "digit = 0\n",
    "co2_input = input\n",
    "\n",
    "while len(co2_input) > 1:\n",
    "    co2_input = reduce(co2_input, digit=digit, most_least = \"least\", tie_winner=\"0\")\n",
    "    digit += 1\n",
    "\n",
    "co2 = int(co2_input[0], 2)\n",
    "co2"
   ]
  },
  {
   "cell_type": "code",
   "execution_count": 169,
   "metadata": {},
   "outputs": [
    {
     "data": {
      "text/plain": [
       "4267809"
      ]
     },
     "execution_count": 169,
     "metadata": {},
     "output_type": "execute_result"
    }
   ],
   "source": [
    "oxygen * co2"
   ]
  }
 ],
 "metadata": {
  "interpreter": {
   "hash": "bfd9d73df9498748b19967dabbe6143bc8b615156d539e91e25fae38868d48ed"
  },
  "kernelspec": {
   "display_name": "Python 3.8.3 64-bit ('base': conda)",
   "language": "python",
   "name": "python3"
  },
  "language_info": {
   "codemirror_mode": {
    "name": "ipython",
    "version": 3
   },
   "file_extension": ".py",
   "mimetype": "text/x-python",
   "name": "python",
   "nbconvert_exporter": "python",
   "pygments_lexer": "ipython3",
   "version": "3.8.3"
  },
  "orig_nbformat": 4
 },
 "nbformat": 4,
 "nbformat_minor": 2
}
