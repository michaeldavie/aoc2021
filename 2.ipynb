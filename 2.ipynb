{
 "cells": [
  {
   "cell_type": "code",
   "execution_count": 16,
   "metadata": {},
   "outputs": [],
   "source": [
    "with open(\"2.input\") as input_file:\n",
    "    lines = input_file.read().splitlines()\n",
    "commands = [tuple(l.split(\" \")) for l in lines]"
   ]
  },
  {
   "cell_type": "code",
   "execution_count": 17,
   "metadata": {},
   "outputs": [
    {
     "data": {
      "text/plain": [
       "1893605"
      ]
     },
     "execution_count": 17,
     "metadata": {},
     "output_type": "execute_result"
    }
   ],
   "source": [
    "x = 0\n",
    "d = 0\n",
    "\n",
    "for c in commands:\n",
    "    if c[0] == \"forward\":\n",
    "        x += int(c[1])\n",
    "    elif c[0] == \"down\":\n",
    "        d += int(c[1])\n",
    "    elif c[0] == \"up\":\n",
    "        d -= int(c[1])\n",
    "\n",
    "x *  d"
   ]
  },
  {
   "cell_type": "code",
   "execution_count": 18,
   "metadata": {},
   "outputs": [
    {
     "data": {
      "text/plain": [
       "2120734350"
      ]
     },
     "execution_count": 18,
     "metadata": {},
     "output_type": "execute_result"
    }
   ],
   "source": [
    "horiz = 0\n",
    "depth = 0\n",
    "pitch = 0\n",
    "\n",
    "for c in commands:\n",
    "    if c[0] == \"down\":\n",
    "        pitch += int(c[1])\n",
    "    elif c[0] == \"up\":\n",
    "        pitch -= int(c[1])\n",
    "    elif c[0] == \"forward\":\n",
    "        horiz += int(c[1])\n",
    "        depth += pitch * int(c[1])\n",
    "\n",
    "horiz * depth"
   ]
  }
 ],
 "metadata": {
  "interpreter": {
   "hash": "bfd9d73df9498748b19967dabbe6143bc8b615156d539e91e25fae38868d48ed"
  },
  "kernelspec": {
   "display_name": "Python 3.8.3 64-bit ('base': conda)",
   "language": "python",
   "name": "python3"
  },
  "language_info": {
   "codemirror_mode": {
    "name": "ipython",
    "version": 3
   },
   "file_extension": ".py",
   "mimetype": "text/x-python",
   "name": "python",
   "nbconvert_exporter": "python",
   "pygments_lexer": "ipython3",
   "version": "3.8.3"
  },
  "orig_nbformat": 4
 },
 "nbformat": 4,
 "nbformat_minor": 2
}
